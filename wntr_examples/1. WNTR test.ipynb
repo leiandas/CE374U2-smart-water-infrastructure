{
 "cells": [
  {
   "cell_type": "markdown",
   "id": "4fa7959d-263c-490f-b9ad-ca80a835552f",
   "metadata": {},
   "source": [
    "## WNTR test installation\n",
    "## Imports"
   ]
  },
  {
   "cell_type": "code",
   "execution_count": 1,
   "id": "09f3810b-5913-4281-8a3c-e54865c9471b",
   "metadata": {},
   "outputs": [
    {
     "name": "stderr",
     "output_type": "stream",
     "text": [
      "c:\\Users\\User\\AppData\\Local\\Programs\\Python\\Python313\\Lib\\site-packages\\wntr\\epanet\\toolkit.py:13: UserWarning: pkg_resources is deprecated as an API. See https://setuptools.pypa.io/en/latest/pkg_resources.html. The pkg_resources package is slated for removal as early as 2025-11-30. Refrain from using this package or pin to Setuptools<81.\n",
      "  from pkg_resources import resource_filename\n"
     ]
    },
    {
     "name": "stdout",
     "output_type": "stream",
     "text": [
      "WNTR version: 1.3.2\n"
     ]
    }
   ],
   "source": [
    "# show package version\n",
    "import wntr\n",
    "print(\"WNTR version:\", wntr.__version__)"
   ]
  },
  {
   "cell_type": "markdown",
   "id": "a8b99b85-8d5f-4580-abca-92297821973d",
   "metadata": {},
   "source": [
    "## Units\n",
    "WNTR uses SI (International System) units (length in meters, time in seconds, mass in kilograms).  See https://usepa.github.io/WNTR/units.html for more details."
   ]
  },
  {
   "cell_type": "markdown",
   "id": "c5daf406-7e23-4695-a5de-7a9f97e8ac98",
   "metadata": {},
   "source": [
    "# Water Network Model"
   ]
  },
  {
   "cell_type": "markdown",
   "id": "31f4c367-4ad8-4143-96a1-7b29e39a7a4c",
   "metadata": {},
   "source": [
    "The `WaterNetworkModel` object defines the water distribution system and simulation options. The object can be created from an EPANET INP file."
   ]
  },
  {
   "cell_type": "code",
   "execution_count": 2,
   "id": "dd6c6cf8-d665-4d27-ab25-261a31e5b412",
   "metadata": {},
   "outputs": [],
   "source": [
    "# Create a WaterNetworkModel from an EPANET INP file\n",
    "wn = wntr.network.WaterNetworkModel('networks/Net1.inp')"
   ]
  },
  {
   "cell_type": "code",
   "execution_count": 3,
   "id": "80e25f00-3559-4540-affc-82c40a804ef8",
   "metadata": {},
   "outputs": [
    {
     "data": {
      "image/png": "[encoded data removed]",
      "text/plain": [
       "<Figure size 640x480 with 1 Axes>"
      ]
     },
     "metadata": {},
     "output_type": "display_data"
    }
   ],
   "source": [
    "# Plot a basic network graphic\n",
    "ax = wntr.graphics.plot_network(wn)"
   ]
  },
  {
   "cell_type": "markdown",
   "id": "99ae7d1b-f9f4-40f3-90c8-e12e4511dc67",
   "metadata": {},
   "source": [
    "## Run hydraulic simulation and get results"
   ]
  },
  {
   "cell_type": "code",
   "execution_count": null,
   "id": "de4077bb-774f-43ea-9a27-9c089559b932",
   "metadata": {},
   "outputs": [],
   "source": [
    "# Simulate hydraulics using EPANET\n",
    "sim = wntr.sim.EpanetSimulator(wn)\n",
    "results_EPANET = sim.run_sim()"
   ]
  },
  {
   "cell_type": "code",
   "execution_count": null,
   "id": "03eb3bab-5d22-4033-82ac-222aa016bb29",
   "metadata": {},
   "outputs": [],
   "source": [
    "# View EpanetSimulator pressure results\n",
    "results_EPANET.node['pressure'].head()"
   ]
  },
  {
   "cell_type": "code",
   "execution_count": null,
   "id": "976d2eb5-208a-4124-a887-52e3d353ff97",
   "metadata": {},
   "outputs": [],
   "source": [
    "# Plot demand timeseries of a given node\n",
    "node_pressure = results_EPANET.node['demand'].loc[:,'32']\n",
    "ax = node_pressure.plot(title='Node demand')\n",
    "ax.set_xlabel('Time (s)')\n",
    "ax.set_ylabel('Demand (m$^3$/s)')"
   ]
  },
  {
   "cell_type": "code",
   "execution_count": null,
   "id": "2ad581aa-54fa-4687-a8d6-f0661c13e268",
   "metadata": {},
   "outputs": [],
   "source": [
    "# Plot pressure head timeseries of a given node\n",
    "node_pressure = results_EPANET.node['pressure'].loc[:,'32']\n",
    "ax = node_pressure.plot(title='Node pressure')\n",
    "ax.set_xlabel('Time (s)')\n",
    "ax.set_ylabel('Pressure (m)')"
   ]
  },
  {
   "cell_type": "code",
   "execution_count": null,
   "id": "aa815d51-b6ee-4964-be4f-30e76a7894b5",
   "metadata": {},
   "outputs": [],
   "source": [
    "# Plot timeseries of tank levels\n",
    "tank_levels = results_EPANET.node['pressure'].loc[:,wn.tank_name_list]\n",
    "ax = tank_levels.plot(title='Tank level')\n",
    "ax.set_xlabel('Time (s)')\n",
    "ax.set_ylabel('Tank Level (m)')"
   ]
  },
  {
   "cell_type": "code",
   "execution_count": null,
   "id": "1d7fd519-213e-4453-a32c-d39d08f09cd1",
   "metadata": {},
   "outputs": [],
   "source": [
    "# Plot timeseries of pump flowrates\n",
    "pump_flowrates = results_EPANET.link['flowrate'].loc[:,wn.pump_name_list]\n",
    "ax = pump_flowrates.plot(title='Pump flowrate')\n",
    "ax.set_xlabel('Time (s)')\n",
    "ax.set_ylabel('Pump flowrate (m$^3$/s)')"
   ]
  },
  {
   "cell_type": "code",
   "execution_count": null,
   "id": "2284b03b-6d46-44c8-8fb4-19dfd1c76e9b",
   "metadata": {},
   "outputs": [],
   "source": [
    "# Plot pressure at hour 5 on the network\n",
    "pressure_at_5hr = results_EPANET.node['pressure'].loc[5*3600, :]\n",
    "ax = wntr.graphics.plot_network(wn, node_attribute=pressure_at_5hr, node_size=30, title='Pressure at 5 hours')"
   ]
  },
  {
   "cell_type": "code",
   "execution_count": null,
   "id": "6d190953-8618-4768-8213-5dcaf686296d",
   "metadata": {},
   "outputs": [],
   "source": []
  }
 ],
 "metadata": {
  "kernelspec": {
   "display_name": "Python 3",
   "language": "python",
   "name": "python3"
  },
  "language_info": {
   "codemirror_mode": {
    "name": "ipython",
    "version": 3
   },
   "file_extension": ".py",
   "mimetype": "text/x-python",
   "name": "python",
   "nbconvert_exporter": "python",
   "pygments_lexer": "ipython3",
   "version": "3.13.2"
  }
 },
 "nbformat": 4,
 "nbformat_minor": 5
}
